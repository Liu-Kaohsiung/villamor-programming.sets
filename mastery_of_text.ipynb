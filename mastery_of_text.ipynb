{
 "cells": [
  {
   "cell_type": "code",
   "execution_count": 1,
   "id": "fcd50fdb-6bda-4b8d-a366-91436f6f68e7",
   "metadata": {},
   "outputs": [],
   "source": [
    "import urllib.request, re\n",
    "from collections import Counter\n",
    "\n",
    "url = \"https://www.gutenberg.org/cache/epub/10/pg10.txt\"\n",
    "response = urllib.request.urlopen(url)\n",
    "pg10 = response.read().decode(\"utf-8\")"
   ]
  },
  {
   "cell_type": "code",
   "execution_count": 2,
   "id": "7066752e-a2f6-4f76-a041-99f68fa7f699",
   "metadata": {},
   "outputs": [
    {
     "data": {
      "text/plain": [
       "99968"
      ]
     },
     "execution_count": 2,
     "metadata": {},
     "output_type": "execute_result"
    }
   ],
   "source": [
    "## Q1 How many lines does the string have?\n",
    "line_count = len(pg10.splitlines())\n",
    "line_count"
   ]
  },
  {
   "cell_type": "code",
   "execution_count": 3,
   "id": "215ab37a-5363-414b-b68d-99844eb81222",
   "metadata": {},
   "outputs": [
    {
     "data": {
      "text/plain": [
       "795227"
      ]
     },
     "execution_count": 3,
     "metadata": {},
     "output_type": "execute_result"
    }
   ],
   "source": [
    "## Q2 How many words does the string have? (where a word is any set of directly-adjacent alphabet characters)\n",
    "words = re.findall(r\"[A-Za-z]+\", pg10)\n",
    "word_count = len(words)\n",
    "word_count"
   ]
  },
  {
   "cell_type": "code",
   "execution_count": 4,
   "id": "9525dea0-d4df-4bd4-8e10-dcb77206687c",
   "metadata": {},
   "outputs": [
    {
     "data": {
      "text/plain": [
       "47"
      ]
     },
     "execution_count": 4,
     "metadata": {},
     "output_type": "execute_result"
    }
   ],
   "source": [
    "## Q3 How many times does the word \"apostle\", ignoring capitalization, appear in the string?\n",
    "apostle_count = sum(1 for w in words if w.lower() == \"apostle\")\n",
    "apostle_count"
   ]
  },
  {
   "cell_type": "code",
   "execution_count": 5,
   "id": "e45704e0-a272-4d61-a8a7-fde7ca5a161f",
   "metadata": {},
   "outputs": [
    {
     "data": {
      "text/plain": [
       "('the', 64309)"
      ]
     },
     "execution_count": 5,
     "metadata": {},
     "output_type": "execute_result"
    }
   ],
   "source": [
    "## Q4 What is the most common word, ignoring capitalization, in the string? (where a word is any set of directly-adjacent alphabet characters)\n",
    "words_lower = [w.lower() for w in words]\n",
    "counter = Counter(words_lower)\n",
    "most_common_word, freq = counter.most_common(1)[0]\n",
    "most_common_word, freq"
   ]
  },
  {
   "cell_type": "code",
   "execution_count": null,
   "id": "b818a065-a9e8-4b4e-aa7f-b30a321f0624",
   "metadata": {},
   "outputs": [],
   "source": []
  }
 ],
 "metadata": {
  "kernelspec": {
   "display_name": "Python [conda env:base] *",
   "language": "python",
   "name": "conda-base-py"
  },
  "language_info": {
   "codemirror_mode": {
    "name": "ipython",
    "version": 3
   },
   "file_extension": ".py",
   "mimetype": "text/x-python",
   "name": "python",
   "nbconvert_exporter": "python",
   "pygments_lexer": "ipython3",
   "version": "3.13.5"
  }
 },
 "nbformat": 4,
 "nbformat_minor": 5
}
